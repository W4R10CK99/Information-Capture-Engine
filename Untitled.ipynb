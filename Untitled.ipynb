{
 "cells": [
  {
   "cell_type": "code",
   "execution_count": 2,
   "id": "76062601",
   "metadata": {},
   "outputs": [
    {
     "name": "stdout",
     "output_type": "stream",
     "text": [
      "Collecting pytesseract\n",
      "  Downloading pytesseract-0.3.10-py3-none-any.whl (14 kB)\n",
      "Requirement already satisfied: packaging>=21.3 in c:\\ml\\lib\\site-packages (from pytesseract) (21.3)\n",
      "Requirement already satisfied: Pillow>=8.0.0 in c:\\ml\\lib\\site-packages (from pytesseract) (9.2.0)\n",
      "Requirement already satisfied: pyparsing!=3.0.5,>=2.0.2 in c:\\ml\\lib\\site-packages (from packaging>=21.3->pytesseract) (3.0.9)\n",
      "Installing collected packages: pytesseract\n",
      "Successfully installed pytesseract-0.3.10\n",
      "Note: you may need to restart the kernel to use updated packages.\n"
     ]
    }
   ],
   "source": [
    "pip install pytesseract"
   ]
  },
  {
   "cell_type": "code",
   "execution_count": 1,
   "id": "ff83e374",
   "metadata": {},
   "outputs": [],
   "source": [
    "import pytesseract as tess"
   ]
  },
  {
   "cell_type": "code",
   "execution_count": 2,
   "id": "c89faddc",
   "metadata": {},
   "outputs": [],
   "source": [
    "tess.pytesseract.tesseract_cmd = r'C:\\Program Files\\Tesseract-OCR\\tesseract.exe'"
   ]
  },
  {
   "cell_type": "code",
   "execution_count": 5,
   "id": "172f3e53",
   "metadata": {},
   "outputs": [],
   "source": [
    "from PIL import Image"
   ]
  },
  {
   "cell_type": "code",
   "execution_count": 6,
   "id": "7eb436e6",
   "metadata": {},
   "outputs": [],
   "source": [
    "img = Image.open('img1.jpg')"
   ]
  },
  {
   "cell_type": "code",
   "execution_count": 7,
   "id": "0e291d3e",
   "metadata": {},
   "outputs": [
    {
     "data": {
      "text/plain": [
       "'Ram Kumar Sah\\nw= ffa/DOB: 06/05/2000\\n9e9/ MALE\\n\\n7058 0147 3714\\n\\n‘Unique Identification Authority of India\\nAddress: Ue:\\nS/O Lakshman Sah, C-3/245 gali S/O Her ars, I-3/284 Tet F-9¢,\\n| no-18, NANGLI VIHAR EXT aneh fer vRreert ater fer,\\nBAPROLA VIHAR, Nagafgarh, 4741, efor ofgerft feeht,\\n\\nSouth West Delhi, feet - 110043\\nDelhi - 110043\\n\\n7058 0147 3714\\n\\n'"
      ]
     },
     "execution_count": 7,
     "metadata": {},
     "output_type": "execute_result"
    }
   ],
   "source": [
    "text = tess.image_to_string(img)\n",
    "text"
   ]
  },
  {
   "cell_type": "code",
   "execution_count": 8,
   "id": "2e4b0085",
   "metadata": {},
   "outputs": [],
   "source": [
    "ac = Image.open('ac.jpg')"
   ]
  },
  {
   "cell_type": "code",
   "execution_count": 9,
   "id": "4e5b0d18",
   "metadata": {},
   "outputs": [
    {
     "data": {
      "text/plain": [
       "'MODEL GPC1460H41EC\\n\\nSERIAL NO. 1609315090\\nAC VOLTS 208/230 PH 1 0\\n\\nHERTZ 60\\n\\nU8E COPPER CONDUCTORS ONLY\\nVOLTAGE RANGE MAX\\n\\n253 MIN 197 MIN CIRCUIT AMPS 40\\nCOMPRES80R RLA 26.4 LRA 134 FUSE MAX AMPS 60\\nCOND MOTOR FLA 1.4 HP 1/4 CHARGE 103 07. RA10A\\nBLOWER MOTOR FLA 6.4 HP _ 3/4\\nFACTORY TEST PRESSURE PSIG LOW SIDE 236 HIGH SIDE _450 _\\nMAXIMUM HACR AMPS 60 PART NO. 0140604318\\nCIRCUIT BREAKER\\n\\nTHIS EQUIPMENT SUITABLE. FOR OUTDOOR USE ONLY\\n\\nWHEN INSTALLING ONE OF THE ACCESSORY HEAT KITS.\\n— PERMANTELY IDENTIFY THE MODEL ON THIS PLATE\\nAND MARK THE SINGLE POINT WIRING KIT IF INSTALLED.\\n— 0” CLEARANCE TO COMBUSTIBLE Tie enna ise\\n— MAXIMUM OUTLET AIR TEMPERATURE 200F\\n— ALL ACCESSORY HEAT KITS ARE RATED AT 240 VAC/1 _ PH/ 60 _ HERTZ\\n'"
      ]
     },
     "execution_count": 9,
     "metadata": {},
     "output_type": "execute_result"
    }
   ],
   "source": [
    "text2 = tess.image_to_string(ac)\n",
    "text2"
   ]
  },
  {
   "cell_type": "code",
   "execution_count": 15,
   "id": "8eb2da18",
   "metadata": {},
   "outputs": [],
   "source": [
    "lines = text2.split('\\n\\n')\n",
    "formatted_text = '\\n'.join(lines)"
   ]
  },
  {
   "cell_type": "code",
   "execution_count": 16,
   "id": "5ce5c201",
   "metadata": {},
   "outputs": [
    {
     "data": {
      "text/plain": [
       "'MODEL GPC1460H41EC\\nSERIAL NO. 1609315090\\nAC VOLTS 208/230 PH 1 0\\nHERTZ 60\\nU8E COPPER CONDUCTORS ONLY\\nVOLTAGE RANGE MAX\\n253 MIN 197 MIN CIRCUIT AMPS 40\\nCOMPRES80R RLA 26.4 LRA 134 FUSE MAX AMPS 60\\nCOND MOTOR FLA 1.4 HP 1/4 CHARGE 103 07. RA10A\\nBLOWER MOTOR FLA 6.4 HP _ 3/4\\nFACTORY TEST PRESSURE PSIG LOW SIDE 236 HIGH SIDE _450 _\\nMAXIMUM HACR AMPS 60 PART NO. 0140604318\\nCIRCUIT BREAKER\\nTHIS EQUIPMENT SUITABLE. FOR OUTDOOR USE ONLY\\nWHEN INSTALLING ONE OF THE ACCESSORY HEAT KITS.\\n— PERMANTELY IDENTIFY THE MODEL ON THIS PLATE\\nAND MARK THE SINGLE POINT WIRING KIT IF INSTALLED.\\n— 0” CLEARANCE TO COMBUSTIBLE Tie enna ise\\n— MAXIMUM OUTLET AIR TEMPERATURE 200F\\n— ALL ACCESSORY HEAT KITS ARE RATED AT 240 VAC/1 _ PH/ 60 _ HERTZ\\n'"
      ]
     },
     "execution_count": 16,
     "metadata": {},
     "output_type": "execute_result"
    }
   ],
   "source": [
    "formatted_text"
   ]
  },
  {
   "cell_type": "code",
   "execution_count": 17,
   "id": "c2bf65eb",
   "metadata": {},
   "outputs": [],
   "source": [
    "output_file_path = 'formatted_output.txt'\n",
    "with open(output_file_path, 'w', encoding='utf-8') as file:\n",
    "    file.write(formatted_text)\n"
   ]
  },
  {
   "cell_type": "code",
   "execution_count": null,
   "id": "d798c918",
   "metadata": {},
   "outputs": [],
   "source": []
  }
 ],
 "metadata": {
  "kernelspec": {
   "display_name": "Python 3 (ipykernel)",
   "language": "python",
   "name": "python3"
  },
  "language_info": {
   "codemirror_mode": {
    "name": "ipython",
    "version": 3
   },
   "file_extension": ".py",
   "mimetype": "text/x-python",
   "name": "python",
   "nbconvert_exporter": "python",
   "pygments_lexer": "ipython3",
   "version": "3.9.13"
  }
 },
 "nbformat": 4,
 "nbformat_minor": 5
}
